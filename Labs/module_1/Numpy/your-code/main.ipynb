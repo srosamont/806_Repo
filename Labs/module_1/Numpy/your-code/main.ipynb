{
 "cells": [
  {
   "cell_type": "markdown",
   "metadata": {},
   "source": [
    "# Intrduction to NumPy\n",
    "\n",
    "\n",
    "#### 1. Import NumPy under the name np."
   ]
  },
  {
   "cell_type": "code",
   "execution_count": 70,
   "metadata": {},
   "outputs": [],
   "source": [
    "import numpy as np\n",
    "import pandas as pd"
   ]
  },
  {
   "cell_type": "markdown",
   "metadata": {},
   "source": [
    "#### 2. Print your NumPy version."
   ]
  },
  {
   "cell_type": "code",
   "execution_count": 6,
   "metadata": {},
   "outputs": [
    {
     "name": "stdout",
     "output_type": "stream",
     "text": [
      "1.18.1\n"
     ]
    }
   ],
   "source": [
    "print(np.__version__)"
   ]
  },
  {
   "cell_type": "markdown",
   "metadata": {},
   "source": [
    "#### 3. Generate a 2x3x5 3-dimensional array with random values. Assign the array to variable *a*.\n",
    "**Challenge**: there are at least three easy ways that use numpy to generate random arrays. How many ways can you find?"
   ]
  },
  {
   "cell_type": "code",
   "execution_count": 15,
   "metadata": {},
   "outputs": [
    {
     "data": {
      "text/plain": [
       "array([[[0.40563558, 0.89994383, 0.19391278, 0.53231413, 0.88575685],\n",
       "        [0.22433487, 0.30041791, 0.68825466, 0.52054407, 0.75508985],\n",
       "        [0.74062833, 0.81952328, 0.41391538, 0.72448621, 0.03196963]],\n",
       "\n",
       "       [[0.39861542, 0.37319981, 0.61460692, 0.19019899, 0.30249002],\n",
       "        [0.78233796, 0.84430248, 0.94938266, 0.02677076, 0.97027389],\n",
       "        [0.756992  , 0.08449039, 0.58271806, 0.01315351, 0.22028175]]])"
      ]
     },
     "execution_count": 15,
     "metadata": {},
     "output_type": "execute_result"
    }
   ],
   "source": [
    "# Method 1\n",
    "a=np.random.random((2,3,5))\n",
    "a"
   ]
  },
  {
   "cell_type": "code",
   "execution_count": 10,
   "metadata": {},
   "outputs": [
    {
     "data": {
      "text/plain": [
       "array([[[0.57355647, 0.77647017, 0.64418718, 0.43651099, 0.58319608],\n",
       "        [0.58528643, 0.24950094, 0.22539113, 0.03511453, 0.67658369],\n",
       "        [0.90391355, 0.84660799, 0.44681464, 0.58539968, 0.63512263]],\n",
       "\n",
       "       [[0.78401171, 0.62171973, 0.7121172 , 0.92944477, 0.11607797],\n",
       "        [0.19081695, 0.81197355, 0.38063649, 0.64088341, 0.97578866],\n",
       "        [0.23982704, 0.15431867, 0.6229341 , 0.1435821 , 0.47764982]]])"
      ]
     },
     "execution_count": 10,
     "metadata": {},
     "output_type": "execute_result"
    }
   ],
   "source": [
    "# Method 2\n",
    "np.random.rand(2,3,5)"
   ]
  },
  {
   "cell_type": "code",
   "execution_count": 13,
   "metadata": {},
   "outputs": [
    {
     "data": {
      "text/plain": [
       "array([[[0.04889819, 0.91192401, 0.77007789, 0.38271482, 0.87347801],\n",
       "        [0.61671691, 0.70078638, 0.35138127, 0.92799599, 0.45854938],\n",
       "        [0.61719236, 0.52706272, 0.89532337, 0.26202984, 0.91641573]],\n",
       "\n",
       "       [[0.42998119, 0.34079615, 0.2259418 , 0.97242214, 0.14952475],\n",
       "        [0.8399454 , 0.91238409, 0.38042091, 0.53122311, 0.76379062],\n",
       "        [0.18374851, 0.58805127, 0.03425395, 0.81221432, 0.99756667]]])"
      ]
     },
     "execution_count": 13,
     "metadata": {},
     "output_type": "execute_result"
    }
   ],
   "source": [
    "# Method 3\n",
    "np.random.random_sample((2,3,5))"
   ]
  },
  {
   "cell_type": "markdown",
   "metadata": {},
   "source": [
    "#### 4. Print *a*.\n"
   ]
  },
  {
   "cell_type": "code",
   "execution_count": 16,
   "metadata": {},
   "outputs": [
    {
     "data": {
      "text/plain": [
       "array([[[0.40563558, 0.89994383, 0.19391278, 0.53231413, 0.88575685],\n",
       "        [0.22433487, 0.30041791, 0.68825466, 0.52054407, 0.75508985],\n",
       "        [0.74062833, 0.81952328, 0.41391538, 0.72448621, 0.03196963]],\n",
       "\n",
       "       [[0.39861542, 0.37319981, 0.61460692, 0.19019899, 0.30249002],\n",
       "        [0.78233796, 0.84430248, 0.94938266, 0.02677076, 0.97027389],\n",
       "        [0.756992  , 0.08449039, 0.58271806, 0.01315351, 0.22028175]]])"
      ]
     },
     "metadata": {},
     "output_type": "display_data"
    }
   ],
   "source": [
    "display(a)"
   ]
  },
  {
   "cell_type": "markdown",
   "metadata": {},
   "source": [
    "#### 5. Create a 5x2x3 3-dimensional array with all values equaling 1. Assign the array to variable *b*."
   ]
  },
  {
   "cell_type": "code",
   "execution_count": 24,
   "metadata": {},
   "outputs": [
    {
     "data": {
      "text/plain": [
       "array([[[1, 1, 1],\n",
       "        [1, 1, 1]],\n",
       "\n",
       "       [[1, 1, 1],\n",
       "        [1, 1, 1]],\n",
       "\n",
       "       [[1, 1, 1],\n",
       "        [1, 1, 1]],\n",
       "\n",
       "       [[1, 1, 1],\n",
       "        [1, 1, 1]],\n",
       "\n",
       "       [[1, 1, 1],\n",
       "        [1, 1, 1]]])"
      ]
     },
     "execution_count": 24,
     "metadata": {},
     "output_type": "execute_result"
    }
   ],
   "source": [
    "b=np.array([[[1,1,1]]*2]*5)\n",
    "b"
   ]
  },
  {
   "cell_type": "markdown",
   "metadata": {},
   "source": [
    "#### 6. Print *b*.\n"
   ]
  },
  {
   "cell_type": "code",
   "execution_count": 25,
   "metadata": {},
   "outputs": [
    {
     "data": {
      "text/plain": [
       "array([[[1, 1, 1],\n",
       "        [1, 1, 1]],\n",
       "\n",
       "       [[1, 1, 1],\n",
       "        [1, 1, 1]],\n",
       "\n",
       "       [[1, 1, 1],\n",
       "        [1, 1, 1]],\n",
       "\n",
       "       [[1, 1, 1],\n",
       "        [1, 1, 1]],\n",
       "\n",
       "       [[1, 1, 1],\n",
       "        [1, 1, 1]]])"
      ]
     },
     "execution_count": 25,
     "metadata": {},
     "output_type": "execute_result"
    }
   ],
   "source": [
    "b"
   ]
  },
  {
   "cell_type": "markdown",
   "metadata": {},
   "source": [
    "#### 7. Do *a* and *b* have the same size? How do you prove that in Python code?"
   ]
  },
  {
   "cell_type": "code",
   "execution_count": 27,
   "metadata": {},
   "outputs": [
    {
     "data": {
      "text/plain": [
       "True"
      ]
     },
     "execution_count": 27,
     "metadata": {},
     "output_type": "execute_result"
    }
   ],
   "source": [
    "a.size==b.size"
   ]
  },
  {
   "cell_type": "markdown",
   "metadata": {},
   "source": [
    "#### 8. Are you able to add *a* and *b*? Why or why not?\n"
   ]
  },
  {
   "cell_type": "code",
   "execution_count": 29,
   "metadata": {},
   "outputs": [
    {
     "ename": "ValueError",
     "evalue": "operands could not be broadcast together with shapes (2,3,5) (5,2,3) ",
     "output_type": "error",
     "traceback": [
      "\u001b[0;31m---------------------------------------------------------------------------\u001b[0m",
      "\u001b[0;31mValueError\u001b[0m                                Traceback (most recent call last)",
      "\u001b[0;32m<ipython-input-29-ca730b97bf8a>\u001b[0m in \u001b[0;36m<module>\u001b[0;34m\u001b[0m\n\u001b[0;32m----> 1\u001b[0;31m \u001b[0ma\u001b[0m\u001b[0;34m+\u001b[0m\u001b[0mb\u001b[0m\u001b[0;34m\u001b[0m\u001b[0;34m\u001b[0m\u001b[0m\n\u001b[0m",
      "\u001b[0;31mValueError\u001b[0m: operands could not be broadcast together with shapes (2,3,5) (5,2,3) "
     ]
    }
   ],
   "source": [
    "a+b\n",
    "\"\"\" shapes are different.(2,3,5)vs. (5,2,3)\"\"\""
   ]
  },
  {
   "cell_type": "markdown",
   "metadata": {},
   "source": [
    "#### 9. Transpose *b* so that it has the same structure of *a* (i.e. become a 2x3x5 array). Assign the transposed array to variable *c*."
   ]
  },
  {
   "cell_type": "code",
   "execution_count": 130,
   "metadata": {},
   "outputs": [
    {
     "data": {
      "text/plain": [
       "array([[[1, 1, 1, 1, 1],\n",
       "        [1, 1, 1, 1, 1],\n",
       "        [1, 1, 1, 1, 1]],\n",
       "\n",
       "       [[1, 1, 1, 1, 1],\n",
       "        [1, 1, 1, 1, 1],\n",
       "        [1, 1, 1, 1, 1]]])"
      ]
     },
     "execution_count": 130,
     "metadata": {},
     "output_type": "execute_result"
    }
   ],
   "source": [
    "c=b.transpose(1,2,0) # change axes (5,2,3 index from 0,1,2 to index 1,2,0)\n",
    "c"
   ]
  },
  {
   "cell_type": "markdown",
   "metadata": {},
   "source": [
    "#### 10. Try to add *a* and *c*. Now it should work. Assign the sum to variable *d*. But why does it work now?"
   ]
  },
  {
   "cell_type": "code",
   "execution_count": 131,
   "metadata": {},
   "outputs": [
    {
     "data": {
      "text/plain": [
       "array([[[1.40563558, 1.89994383, 1.19391278, 1.53231413, 1.88575685],\n",
       "        [1.22433487, 1.30041791, 1.68825466, 1.52054407, 1.75508985],\n",
       "        [1.74062833, 1.81952328, 1.41391538, 1.72448621, 1.03196963]],\n",
       "\n",
       "       [[1.39861542, 1.37319981, 1.61460692, 1.19019899, 1.30249002],\n",
       "        [1.78233796, 1.84430248, 1.94938266, 1.02677076, 1.97027389],\n",
       "        [1.756992  , 1.08449039, 1.58271806, 1.01315351, 1.22028175]]])"
      ]
     },
     "metadata": {},
     "output_type": "display_data"
    },
    {
     "data": {
      "text/plain": [
       "' shapes are the sames.(2,3,5)'"
      ]
     },
     "execution_count": 131,
     "metadata": {},
     "output_type": "execute_result"
    }
   ],
   "source": [
    "d=a+c\n",
    "display(d)\n",
    "\"\"\" shapes are the sames.(2,3,5)\"\"\""
   ]
  },
  {
   "cell_type": "markdown",
   "metadata": {},
   "source": [
    "#### 11. Print *a* and *d*. Notice the difference and relation of the two array in terms of the values? Explain."
   ]
  },
  {
   "cell_type": "code",
   "execution_count": 65,
   "metadata": {},
   "outputs": [
    {
     "data": {
      "text/plain": [
       "(array([[[0.40563558, 0.89994383, 0.19391278, 0.53231413, 0.88575685],\n",
       "         [0.22433487, 0.30041791, 0.68825466, 0.52054407, 0.75508985],\n",
       "         [0.74062833, 0.81952328, 0.41391538, 0.72448621, 0.03196963]],\n",
       " \n",
       "        [[0.39861542, 0.37319981, 0.61460692, 0.19019899, 0.30249002],\n",
       "         [0.78233796, 0.84430248, 0.94938266, 0.02677076, 0.97027389],\n",
       "         [0.756992  , 0.08449039, 0.58271806, 0.01315351, 0.22028175]]]),\n",
       " array([[[1.40563558, 1.89994383, 1.19391278, 1.53231413, 1.88575685],\n",
       "         [1.22433487, 1.30041791, 1.68825466, 1.52054407, 1.75508985],\n",
       "         [1.74062833, 1.81952328, 1.41391538, 1.72448621, 1.03196963]],\n",
       " \n",
       "        [[1.39861542, 1.37319981, 1.61460692, 1.19019899, 1.30249002],\n",
       "         [1.78233796, 1.84430248, 1.94938266, 1.02677076, 1.97027389],\n",
       "         [1.756992  , 1.08449039, 1.58271806, 1.01315351, 1.22028175]]]))"
      ]
     },
     "execution_count": 65,
     "metadata": {},
     "output_type": "execute_result"
    }
   ],
   "source": [
    "a,d\n"
   ]
  },
  {
   "cell_type": "code",
   "execution_count": 43,
   "metadata": {},
   "outputs": [
    {
     "data": {
      "text/plain": [
       "array([[[ True,  True,  True,  True,  True],\n",
       "        [ True,  True,  True,  True,  True],\n",
       "        [ True,  True,  True,  True,  True]],\n",
       "\n",
       "       [[ True,  True,  True,  True,  True],\n",
       "        [ True,  True,  True,  True,  True],\n",
       "        [ True,  True,  True,  True,  True]]])"
      ]
     },
     "execution_count": 43,
     "metadata": {},
     "output_type": "execute_result"
    }
   ],
   "source": [
    "d==1+a"
   ]
  },
  {
   "cell_type": "markdown",
   "metadata": {},
   "source": [
    "#### 12. Multiply *a* and *c*. Assign the result to *e*."
   ]
  },
  {
   "cell_type": "code",
   "execution_count": 47,
   "metadata": {},
   "outputs": [
    {
     "data": {
      "text/plain": [
       "array([[[0.40563558, 0.89994383, 0.19391278, 0.53231413, 0.88575685],\n",
       "        [0.22433487, 0.30041791, 0.68825466, 0.52054407, 0.75508985],\n",
       "        [0.74062833, 0.81952328, 0.41391538, 0.72448621, 0.03196963]],\n",
       "\n",
       "       [[0.39861542, 0.37319981, 0.61460692, 0.19019899, 0.30249002],\n",
       "        [0.78233796, 0.84430248, 0.94938266, 0.02677076, 0.97027389],\n",
       "        [0.756992  , 0.08449039, 0.58271806, 0.01315351, 0.22028175]]])"
      ]
     },
     "execution_count": 47,
     "metadata": {},
     "output_type": "execute_result"
    }
   ],
   "source": [
    "#multiplication of element\n",
    "e=np.multiply(a,c)\n",
    "e"
   ]
  },
  {
   "cell_type": "markdown",
   "metadata": {},
   "source": [
    "#### 13. Does *e* equal to *a*? Why or why not?\n"
   ]
  },
  {
   "cell_type": "code",
   "execution_count": 49,
   "metadata": {},
   "outputs": [
    {
     "data": {
      "text/plain": [
       "array([[[ True,  True,  True,  True,  True],\n",
       "        [ True,  True,  True,  True,  True],\n",
       "        [ True,  True,  True,  True,  True]],\n",
       "\n",
       "       [[ True,  True,  True,  True,  True],\n",
       "        [ True,  True,  True,  True,  True],\n",
       "        [ True,  True,  True,  True,  True]]])"
      ]
     },
     "execution_count": 49,
     "metadata": {},
     "output_type": "execute_result"
    }
   ],
   "source": [
    "a==e\n",
    "\"\"\"the multiplication is element wise so it is equivalent 1*a\"\"\""
   ]
  },
  {
   "cell_type": "markdown",
   "metadata": {},
   "source": [
    "#### 14. Identify the max, min, and mean values in *d*. Assign those values to variables *d_max*, *d_min* and *d_mean*."
   ]
  },
  {
   "cell_type": "code",
   "execution_count": 66,
   "metadata": {},
   "outputs": [
    {
     "name": "stdout",
     "output_type": "stream",
     "text": [
      "1.9702738878468207 1.0131535068193438 1.5082180650774186\n"
     ]
    }
   ],
   "source": [
    "d_max=d.max()\n",
    "d_min=d.min()\n",
    "d_mean=d.mean()\n",
    "print(d_max,d_min,d_mean)"
   ]
  },
  {
   "cell_type": "markdown",
   "metadata": {},
   "source": [
    "#### 15. Now we want to label the values in *d*. First create an empty array *f* with the same shape (i.e. 2x3x5) as *d* using `np.empty`.\n"
   ]
  },
  {
   "cell_type": "code",
   "execution_count": 57,
   "metadata": {},
   "outputs": [
    {
     "data": {
      "text/plain": [
       "array([[[0.40563558, 0.89994383, 0.19391278, 0.53231413, 0.88575685],\n",
       "        [0.22433487, 0.30041791, 0.68825466, 0.52054407, 0.75508985],\n",
       "        [0.74062833, 0.81952328, 0.41391538, 0.72448621, 0.03196963]],\n",
       "\n",
       "       [[0.39861542, 0.37319981, 0.61460692, 0.19019899, 0.30249002],\n",
       "        [0.78233796, 0.84430248, 0.94938266, 0.02677076, 0.97027389],\n",
       "        [0.756992  , 0.08449039, 0.58271806, 0.01315351, 0.22028175]]])"
      ]
     },
     "execution_count": 57,
     "metadata": {},
     "output_type": "execute_result"
    }
   ],
   "source": [
    "f=np.empty([2,3,5])\n",
    "f"
   ]
  },
  {
   "cell_type": "markdown",
   "metadata": {},
   "source": [
    "#### 16. Populate the values in *f*. \n",
    "\n",
    "For each value in *d*, if it's larger than *d_min* but smaller than *d_mean*, assign 25 to the corresponding value in *f*. If a value in *d* is larger than *d_mean* but smaller than *d_max*, assign 75 to the corresponding value in *f*. If a value equals to *d_mean*, assign 50 to the corresponding value in *f*. Assign 0 to the corresponding value(s) in *f* for *d_min* in *d*. Assign 100 to the corresponding value(s) in *f* for *d_max* in *d*. In the end, f should have only the following values: 0, 25, 50, 75, and 100.\n",
    "\n",
    "**Note**: you don't have to use Numpy in this question."
   ]
  },
  {
   "cell_type": "code",
   "execution_count": 59,
   "metadata": {},
   "outputs": [
    {
     "data": {
      "text/plain": [
       "(2, 3, 5)"
      ]
     },
     "execution_count": 59,
     "metadata": {},
     "output_type": "execute_result"
    }
   ],
   "source": [
    "d.shape"
   ]
  },
  {
   "cell_type": "code",
   "execution_count": 67,
   "metadata": {},
   "outputs": [
    {
     "data": {
      "text/plain": [
       "array([[[ 25.,  75.,  25.,  75.,  75.],\n",
       "        [ 25.,  25.,  75.,  75.,  75.],\n",
       "        [ 75.,  75.,  25.,  75.,  25.]],\n",
       "\n",
       "       [[ 25.,  25.,  75.,  25.,  25.],\n",
       "        [ 75.,  75.,  75.,  25., 100.],\n",
       "        [ 75.,  25.,  75.,   0.,  25.]]])"
      ]
     },
     "execution_count": 67,
     "metadata": {},
     "output_type": "execute_result"
    }
   ],
   "source": [
    "for i in range(d.shape[0]):\n",
    "    for j in range(d.shape[1]):\n",
    "        for k in range(d.shape[2]):\n",
    "            if d[i,j,k]>d_min and d[i,j,k]<d_mean:\n",
    "                f[i,j,k]=25\n",
    "            elif d[i,j,k]<d_max and d[i,j,k]>d_mean:\n",
    "                f[i,j,k]=75\n",
    "            elif d[i,j,k]==d_mean:\n",
    "                f[i,j,k]=50\n",
    "            elif d[i,j,k]==d_min:\n",
    "                f[i,j,k]=0\n",
    "            else:\n",
    "                f[i,j,k]=100\n",
    "f"
   ]
  },
  {
   "cell_type": "markdown",
   "metadata": {},
   "source": [
    "#### 17. Print *d* and *f*. Do you have your expected *f*?\n",
    "For instance, if your *d* is:\n",
    "```python\n",
    "[[[1.85836099, 1.67064465, 1.62576044, 1.40243961, 1.88454931],\n",
    "[1.75354326, 1.69403643, 1.36729252, 1.61415071, 1.12104981],\n",
    "[1.72201435, 1.1862918 , 1.87078449, 1.7726778 , 1.88180042]],\n",
    "[[1.44747908, 1.31673383, 1.02000951, 1.52218947, 1.97066381],\n",
    "[1.79129243, 1.74983003, 1.96028037, 1.85166831, 1.65450881],\n",
    "[1.18068344, 1.9587381 , 1.00656599, 1.93402165, 1.73514584]]]\n",
    "```\n",
    "Your *f* should be:\n",
    "```python\n",
    "[[[ 75.,  75.,  75.,  25.,  75.],\n",
    "[ 75.,  75.,  25.,  25.,  25.],\n",
    "[ 75.,  25.,  75.,  75.,  75.]],\n",
    "[[ 25.,  25.,  25.,  25., 100.],\n",
    "[ 75.,  75.,  75.,  75.,  75.],\n",
    "[ 25.,  75.,   0.,  75.,  75.]]]\n",
    "```"
   ]
  },
  {
   "cell_type": "code",
   "execution_count": 68,
   "metadata": {},
   "outputs": [
    {
     "data": {
      "text/plain": [
       "(array([[[1.40563558, 1.89994383, 1.19391278, 1.53231413, 1.88575685],\n",
       "         [1.22433487, 1.30041791, 1.68825466, 1.52054407, 1.75508985],\n",
       "         [1.74062833, 1.81952328, 1.41391538, 1.72448621, 1.03196963]],\n",
       " \n",
       "        [[1.39861542, 1.37319981, 1.61460692, 1.19019899, 1.30249002],\n",
       "         [1.78233796, 1.84430248, 1.94938266, 1.02677076, 1.97027389],\n",
       "         [1.756992  , 1.08449039, 1.58271806, 1.01315351, 1.22028175]]]),\n",
       " array([[[ 25.,  75.,  25.,  75.,  75.],\n",
       "         [ 25.,  25.,  75.,  75.,  75.],\n",
       "         [ 75.,  75.,  25.,  75.,  25.]],\n",
       " \n",
       "        [[ 25.,  25.,  75.,  25.,  25.],\n",
       "         [ 75.,  75.,  75.,  25., 100.],\n",
       "         [ 75.,  25.,  75.,   0.,  25.]]]))"
      ]
     },
     "execution_count": 68,
     "metadata": {},
     "output_type": "execute_result"
    }
   ],
   "source": [
    "d,f"
   ]
  },
  {
   "cell_type": "markdown",
   "metadata": {},
   "source": [
    "#### 18. Bonus question: instead of using numbers (i.e. 0, 25, 50, 75, and 100), use string values  (\"A\", \"B\", \"C\", \"D\", and \"E\") to label the array elements. For the example above, the expected result is:\n",
    "\n",
    "```python\n",
    "[[[ 'D',  'D',  'D',  'B',  'D'],\n",
    "[ 'D',  'D',  'B',  'B',  'B'],\n",
    "[ 'D',  'B',  'D',  'D',  'D']],\n",
    "[[ 'B',  'B',  'B',  'B',  'E'],\n",
    "[ 'D',  'D',  'D',  'D',  'D'],\n",
    "[ 'B',  'D',   'A',  'D', 'D']]]\n",
    "```\n",
    "**Note**: you don't have to use Numpy in this question."
   ]
  },
  {
   "cell_type": "code",
   "execution_count": 128,
   "metadata": {},
   "outputs": [],
   "source": [
    "def change_val(x):\n",
    "    if x==0:\n",
    "        x='A'\n",
    "    elif x==25:\n",
    "        x='B'\n",
    "    elif x==50:\n",
    "        x='C'\n",
    "    elif x==75:\n",
    "        x='D'\n",
    "    else :\n",
    "        x='E'\n",
    "    return x\n",
    "\n",
    "\n"
   ]
  },
  {
   "cell_type": "code",
   "execution_count": 132,
   "metadata": {},
   "outputs": [
    {
     "data": {
      "text/plain": [
       "array([[['B', 'D', 'B', 'D', 'D'],\n",
       "        ['B', 'B', 'D', 'D', 'D'],\n",
       "        ['D', 'D', 'B', 'D', 'B']],\n",
       "\n",
       "       [['B', 'B', 'D', 'B', 'B'],\n",
       "        ['D', 'D', 'D', 'B', 'E'],\n",
       "        ['D', 'B', 'D', 'A', 'B']]], dtype='<U1')"
      ]
     },
     "execution_count": 132,
     "metadata": {},
     "output_type": "execute_result"
    }
   ],
   "source": [
    "vfunc = np.vectorize( change_val) \n",
    "\n",
    "vfunc(f)"
   ]
  }
 ],
 "metadata": {
  "kernelspec": {
   "display_name": "Python 3",
   "language": "python",
   "name": "python3"
  },
  "language_info": {
   "codemirror_mode": {
    "name": "ipython",
    "version": 3
   },
   "file_extension": ".py",
   "mimetype": "text/x-python",
   "name": "python",
   "nbconvert_exporter": "python",
   "pygments_lexer": "ipython3",
   "version": "3.7.6"
  }
 },
 "nbformat": 4,
 "nbformat_minor": 2
}
