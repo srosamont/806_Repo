{
 "cells": [
  {
   "cell_type": "code",
   "execution_count": 14,
   "metadata": {},
   "outputs": [],
   "source": [
    "class Takeanorder:\n",
    "    #global attributes\n",
    "    restaurant_name='Aucun_Sushi'\n",
    "    menu=['Sushi', 'Sashimi', 'Chirashi', 'Gyoza']\n",
    "    \n",
    "    def __init__(self,client_name,client_phone_nb):\n",
    "        self.client=client_name \n",
    "        self.number=client_phone_nb\n",
    "        self.order=[] #list with all the meals the customer wants to order\n",
    "        self.allclients=dict() # all customers which already ordered with name numero and adress (Number :(name,number))\n",
    "            \n",
    "    def Takemealorder(self):\n",
    "        print('Welcome to Aucun Sushi, what would you like to order?')\n",
    "        menu1=self.menu\n",
    "        ordertaken=False\n",
    "        while ordertaken==False:\n",
    "            choice=str(input(f'Please choose between :{menu1}'))\n",
    "            self.order.append(choice)\n",
    "            finished=bool(input('Is that all for your order? True or False '))\n",
    "            if finished==True:\n",
    "                ordertaken=True\n",
    "            if finished==False:\n",
    "                ordertaken=False          \n",
    "        return self.order     \n",
    "    \n",
    "    \n",
    "    "
   ]
  },
  {
   "cell_type": "code",
   "execution_count": 15,
   "metadata": {},
   "outputs": [],
   "source": [
    "order_1=Takeanorder('Sandrine',33611000000)"
   ]
  },
  {
   "cell_type": "code",
   "execution_count": 16,
   "metadata": {},
   "outputs": [
    {
     "name": "stdout",
     "output_type": "stream",
     "text": [
      "Welcome to Aucun Sushi, what would you like to order?\n",
      "Please choose between :['Sushi', 'Sashimi', 'Chirashi', 'Gyoza']Shasimi\n",
      "Is that all for your order? True or False false\n"
     ]
    },
    {
     "data": {
      "text/plain": [
       "['Shasimi']"
      ]
     },
     "execution_count": 16,
     "metadata": {},
     "output_type": "execute_result"
    }
   ],
   "source": [
    "order_1.Takemealorder()"
   ]
  },
  {
   "cell_type": "code",
   "execution_count": null,
   "metadata": {},
   "outputs": [],
   "source": []
  },
  {
   "cell_type": "code",
   "execution_count": null,
   "metadata": {},
   "outputs": [],
   "source": []
  }
 ],
 "metadata": {
  "kernelspec": {
   "display_name": "Python 3",
   "language": "python",
   "name": "python3"
  },
  "language_info": {
   "codemirror_mode": {
    "name": "ipython",
    "version": 3
   },
   "file_extension": ".py",
   "mimetype": "text/x-python",
   "name": "python",
   "nbconvert_exporter": "python",
   "pygments_lexer": "ipython3",
   "version": "3.7.7"
  }
 },
 "nbformat": 4,
 "nbformat_minor": 4
}
