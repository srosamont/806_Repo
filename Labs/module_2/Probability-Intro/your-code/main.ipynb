{
 "cells": [
  {
   "cell_type": "markdown",
   "metadata": {},
   "source": [
    "# Introduction To Probability\n",
    "## Challenge 1\n",
    "\n",
    "A and B are events of a probability space with $(\\omega, \\sigma, P)$ such that $P(A) = 0.3$, $P(B) = 0.6$ and $P(A \\cap B) = 0.1$\n",
    "\n",
    "Which of the following statements are false?\n",
    "* $P(A \\cup B) = 0.6$\n",
    "* $P(A \\cap B^{C}) = 0.2$\n",
    "* $P(A \\cap (B \\cup B^{C})) = 0.4$\n",
    "* $P(A^{C} \\cap B^{C}) = 0.3$\n",
    "* $P((A \\cap B)^{C}) = 0.9$"
   ]
  },
  {
   "cell_type": "code",
   "execution_count": 3,
   "metadata": {},
   "outputs": [
    {
     "name": "stdout",
     "output_type": "stream",
     "text": [
      "P(AUB) 0.7999999999999999\n",
      "P(A∩𝐵𝐶) 0.19999999999999998\n",
      "𝑃(𝐴∩(𝐵∪𝐵𝐶)) 0.3\n",
      "𝑃(𝐴𝐶∩𝐵𝐶) 0.19999999999999998\n",
      "𝑃((𝐴∩𝐵)𝐶) 0.8\n"
     ]
    }
   ],
   "source": [
    "\"\"\"\n",
    "𝑃(𝐴∩𝐵𝐶)=0.2\n",
    "𝑃(𝐴𝐶∩𝐵𝐶)=0.3\n",
    "\n",
    "\n",
    "\"\"\"\n",
    "print('P(AUB)',0.3+0.6-0.1 )\n",
    "print('P(A∩𝐵𝐶)',0.3-0.1)\n",
    "print('𝑃(𝐴∩(𝐵∪𝐵𝐶))',0.3) \n",
    "print('𝑃(𝐴𝐶∩𝐵𝐶)',1-0.3-0.6+0.1)\n",
    "print('𝑃((𝐴∩𝐵)𝐶)',(1-0.3)+(1-0.6)-0.3)"
   ]
  },
  {
   "cell_type": "markdown",
   "metadata": {},
   "source": [
    "## Challenge 2\n",
    "There is a box with 10 white balls, 12 red balls and 8 black balls. Calculate the probability of:\n",
    "* Taking a white ball out.\n",
    "* Taking a white ball out after taking a black ball out.\n",
    "* Taking a red ball out after taking a black and a red ball out.\n",
    "* Taking a red ball out after taking a black and a red ball out with reposition.\n",
    "\n",
    "**Hint**: Reposition means putting back the ball into the box after taking it out."
   ]
  },
  {
   "cell_type": "code",
   "execution_count": 42,
   "metadata": {},
   "outputs": [
    {
     "name": "stdout",
     "output_type": "stream",
     "text": [
      "proba_white_out 0.3333333333333333\n",
      "Taking a white ball out after taking a black ball out 0.09195402298850575\n",
      "Taking a red ball out after taking a black and a red ball out 0.04334975369458128\n",
      "Taking a red ball out after taking a black and a red ball out with reposition 0.04266666666666667\n"
     ]
    }
   ],
   "source": [
    "\"\"\"\n",
    "your solution here\n",
    "\"\"\"\n",
    "\n",
    "white=10\n",
    "red=12\n",
    "black=8\n",
    "total=white+red+black\n",
    "print('proba_white_out',white/total)\n",
    "print('Taking a white ball out after taking a black ball out',(white/(total-1))*(black/total))\n",
    "print('Taking a red ball out after taking a black and a red ball out',(red-1)/(total-2)*(black/(total))*(red/(total-1)))\n",
    "print('Taking a red ball out after taking a black and a red ball out with reposition',(red/total)*(black/total)*(red/total))"
   ]
  },
  {
   "cell_type": "markdown",
   "metadata": {},
   "source": [
    "## Challenge 3\n",
    "\n",
    "You are planning to go on a picnic today but the morning is cloudy. You hate rain so you don't know whether to go out or stay home! To help you make a decision, you gather the following data about rainy days:\n",
    "\n",
    "* 50% of all rainy days start off cloudy!\n",
    "* Cloudy mornings are common. About 40% of days start cloudy. \n",
    "* This month is usually dry so only 3 of 30 days (10%) tend to be rainy. \n",
    "\n",
    "What is the chance of rain during the day?"
   ]
  },
  {
   "cell_type": "code",
   "execution_count": 16,
   "metadata": {},
   "outputs": [
    {
     "name": "stdout",
     "output_type": "stream",
     "text": [
      "rain chances 0.125\n"
     ]
    }
   ],
   "source": [
    "\"\"\"\n",
    "your solution here\n",
    "\"\"\"\n",
    "print('rain chances', 0.1*0.5/0.4)"
   ]
  },
  {
   "cell_type": "markdown",
   "metadata": {},
   "source": [
    "## Challenge 4\n",
    "\n",
    "One thousand people were asked through a telephone survey whether they thought more street lighting is needed at night or not.\n",
    "\n",
    "Out of the 480 men that answered the survey, 324 said yes and 156 said no. On the other hand, out of the 520 women that answered, 351 said yes and 169 said no. \n",
    "\n",
    "We wonder if men and women have a different opinions about the street lighting matter. Is gender relevant or irrelevant to the question?\n",
    "\n",
    "Consider the following events:\n",
    "- The answer is yes, so the person that answered thinks that more street lighting is needed.\n",
    "- The person who answered is a man.\n",
    "\n",
    "We want to know if these events are independent, that is, if the fact of wanting more light depends on whether one is male or female. Are these events independent or not?\n",
    "\n",
    "**Hint**: To clearly compare the answers by gender, it is best to place the data in a table."
   ]
  },
  {
   "cell_type": "code",
   "execution_count": 43,
   "metadata": {},
   "outputs": [
    {
     "data": {
      "text/plain": [
       "menYes      0.675\n",
       "menNo       0.325\n",
       "womenYes    0.675\n",
       "womenNo     0.325\n",
       "dtype: float64"
      ]
     },
     "execution_count": 43,
     "metadata": {},
     "output_type": "execute_result"
    }
   ],
   "source": [
    "# your code here\n",
    "import pandas as pd\n",
    "answers=pd.Series({'menYes':324/480,'menNo':156/480,'womenYes':351/520,'womenNo':169/520})\n",
    "answers\n",
    "\n",
    "\n"
   ]
  },
  {
   "cell_type": "code",
   "execution_count": null,
   "metadata": {},
   "outputs": [],
   "source": [
    "\"\"\"\n",
    "Ratio of Yes is the same for men and women so gender does not seem to matter.\n",
    "\"\"\""
   ]
  }
 ],
 "metadata": {
  "kernelspec": {
   "display_name": "Python 3",
   "language": "python",
   "name": "python3"
  },
  "language_info": {
   "codemirror_mode": {
    "name": "ipython",
    "version": 3
   },
   "file_extension": ".py",
   "mimetype": "text/x-python",
   "name": "python",
   "nbconvert_exporter": "python",
   "pygments_lexer": "ipython3",
   "version": "3.7.6"
  }
 },
 "nbformat": 4,
 "nbformat_minor": 2
}
